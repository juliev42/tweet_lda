{
 "cells": [
  {
   "cell_type": "code",
   "execution_count": 37,
   "metadata": {},
   "outputs": [],
   "source": [
    "import pandas as pd\n",
    "import matplotlib.pyplot as plt\n",
    "\n",
    "import re \n",
    "import nltk\n",
    "from nltk.corpus import stopwords\n",
    "from nltk import tokenize\n",
    "import string\n",
    "import spacy\n",
    "import gensim.corpora as corpora\n",
    "\n",
    "\n",
    "import gensim\n",
    "from gensim.utils import simple_preprocess\n",
    "\n",
    "import wordcloud\n"
   ]
  },
  {
   "cell_type": "code",
   "execution_count": 2,
   "metadata": {},
   "outputs": [
    {
     "data": {
      "text/html": [
       "<div>\n",
       "<style scoped>\n",
       "    .dataframe tbody tr th:only-of-type {\n",
       "        vertical-align: middle;\n",
       "    }\n",
       "\n",
       "    .dataframe tbody tr th {\n",
       "        vertical-align: top;\n",
       "    }\n",
       "\n",
       "    .dataframe thead th {\n",
       "        text-align: right;\n",
       "    }\n",
       "</style>\n",
       "<table border=\"1\" class=\"dataframe\">\n",
       "  <thead>\n",
       "    <tr style=\"text-align: right;\">\n",
       "      <th></th>\n",
       "      <th>created_at</th>\n",
       "      <th>tweet_id</th>\n",
       "      <th>tweet</th>\n",
       "      <th>likes</th>\n",
       "      <th>retweet_count</th>\n",
       "      <th>source</th>\n",
       "      <th>user_id</th>\n",
       "      <th>user_name</th>\n",
       "      <th>user_screen_name</th>\n",
       "      <th>user_description</th>\n",
       "      <th>...</th>\n",
       "      <th>user_followers_count</th>\n",
       "      <th>user_location</th>\n",
       "      <th>lat</th>\n",
       "      <th>long</th>\n",
       "      <th>city</th>\n",
       "      <th>country</th>\n",
       "      <th>continent</th>\n",
       "      <th>state</th>\n",
       "      <th>state_code</th>\n",
       "      <th>collected_at</th>\n",
       "    </tr>\n",
       "  </thead>\n",
       "  <tbody>\n",
       "    <tr>\n",
       "      <th>0</th>\n",
       "      <td>2020-10-15 00:00:01</td>\n",
       "      <td>1.316529221557252e+18</td>\n",
       "      <td>#Elecciones2020 | En #Florida: #JoeBiden dice ...</td>\n",
       "      <td>0.0</td>\n",
       "      <td>0.0</td>\n",
       "      <td>TweetDeck</td>\n",
       "      <td>360666534.0</td>\n",
       "      <td>El Sol Latino News</td>\n",
       "      <td>elsollatinonews</td>\n",
       "      <td>🌐 Noticias de interés para latinos de la costa...</td>\n",
       "      <td>...</td>\n",
       "      <td>1860.0</td>\n",
       "      <td>Philadelphia, PA / Miami, FL</td>\n",
       "      <td>25.77427</td>\n",
       "      <td>-80.19366</td>\n",
       "      <td>NaN</td>\n",
       "      <td>United States of America</td>\n",
       "      <td>North America</td>\n",
       "      <td>Florida</td>\n",
       "      <td>FL</td>\n",
       "      <td>2020-10-21 00:00:00</td>\n",
       "    </tr>\n",
       "    <tr>\n",
       "      <th>1</th>\n",
       "      <td>2020-10-15 00:00:01</td>\n",
       "      <td>1.3165292227484303e+18</td>\n",
       "      <td>Usa 2020, Trump contro Facebook e Twitter: cop...</td>\n",
       "      <td>26.0</td>\n",
       "      <td>9.0</td>\n",
       "      <td>Social Mediaset</td>\n",
       "      <td>331617619.0</td>\n",
       "      <td>Tgcom24</td>\n",
       "      <td>MediasetTgcom24</td>\n",
       "      <td>Profilo ufficiale di Tgcom24: tutte le notizie...</td>\n",
       "      <td>...</td>\n",
       "      <td>1067661.0</td>\n",
       "      <td>NaN</td>\n",
       "      <td>NaN</td>\n",
       "      <td>NaN</td>\n",
       "      <td>NaN</td>\n",
       "      <td>NaN</td>\n",
       "      <td>NaN</td>\n",
       "      <td>NaN</td>\n",
       "      <td>NaN</td>\n",
       "      <td>2020-10-21 00:00:00.373216530</td>\n",
       "    </tr>\n",
       "    <tr>\n",
       "      <th>2</th>\n",
       "      <td>2020-10-15 00:00:02</td>\n",
       "      <td>1.316529228091847e+18</td>\n",
       "      <td>#Trump: As a student I used to hear for years,...</td>\n",
       "      <td>2.0</td>\n",
       "      <td>1.0</td>\n",
       "      <td>Twitter Web App</td>\n",
       "      <td>8436472.0</td>\n",
       "      <td>snarke</td>\n",
       "      <td>snarke</td>\n",
       "      <td>Will mock for food! Freelance writer, blogger,...</td>\n",
       "      <td>...</td>\n",
       "      <td>1185.0</td>\n",
       "      <td>Portland</td>\n",
       "      <td>45.5202471</td>\n",
       "      <td>-122.6741949</td>\n",
       "      <td>Portland</td>\n",
       "      <td>United States of America</td>\n",
       "      <td>North America</td>\n",
       "      <td>Oregon</td>\n",
       "      <td>OR</td>\n",
       "      <td>2020-10-21 00:00:00.746433060</td>\n",
       "    </tr>\n",
       "    <tr>\n",
       "      <th>3</th>\n",
       "      <td>2020-10-15 00:00:02</td>\n",
       "      <td>1.316529227471237e+18</td>\n",
       "      <td>2 hours since last tweet from #Trump! Maybe he...</td>\n",
       "      <td>0.0</td>\n",
       "      <td>0.0</td>\n",
       "      <td>Trumpytweeter</td>\n",
       "      <td>8.28355589206057e+17</td>\n",
       "      <td>Trumpytweeter</td>\n",
       "      <td>trumpytweeter</td>\n",
       "      <td>If he doesn't tweet for some time, should we b...</td>\n",
       "      <td>...</td>\n",
       "      <td>32.0</td>\n",
       "      <td>NaN</td>\n",
       "      <td>NaN</td>\n",
       "      <td>NaN</td>\n",
       "      <td>NaN</td>\n",
       "      <td>NaN</td>\n",
       "      <td>NaN</td>\n",
       "      <td>NaN</td>\n",
       "      <td>NaN</td>\n",
       "      <td>2020-10-21 00:00:01.119649591</td>\n",
       "    </tr>\n",
       "    <tr>\n",
       "      <th>4</th>\n",
       "      <td>2020-10-15 00:00:08</td>\n",
       "      <td>1.3165292523014513e+18</td>\n",
       "      <td>You get a tie! And you get a tie! #Trump ‘s ra...</td>\n",
       "      <td>4.0</td>\n",
       "      <td>3.0</td>\n",
       "      <td>Twitter for iPhone</td>\n",
       "      <td>47413798.0</td>\n",
       "      <td>Rana Abtar - رنا أبتر</td>\n",
       "      <td>Ranaabtar</td>\n",
       "      <td>Washington Correspondent, Lebanese-American ,c...</td>\n",
       "      <td>...</td>\n",
       "      <td>5393.0</td>\n",
       "      <td>Washington DC</td>\n",
       "      <td>38.8949924</td>\n",
       "      <td>-77.0365581</td>\n",
       "      <td>Washington</td>\n",
       "      <td>United States of America</td>\n",
       "      <td>North America</td>\n",
       "      <td>District of Columbia</td>\n",
       "      <td>DC</td>\n",
       "      <td>2020-10-21 00:00:01.492866121</td>\n",
       "    </tr>\n",
       "  </tbody>\n",
       "</table>\n",
       "<p>5 rows × 21 columns</p>\n",
       "</div>"
      ],
      "text/plain": [
       "            created_at                tweet_id  \\\n",
       "0  2020-10-15 00:00:01   1.316529221557252e+18   \n",
       "1  2020-10-15 00:00:01  1.3165292227484303e+18   \n",
       "2  2020-10-15 00:00:02   1.316529228091847e+18   \n",
       "3  2020-10-15 00:00:02   1.316529227471237e+18   \n",
       "4  2020-10-15 00:00:08  1.3165292523014513e+18   \n",
       "\n",
       "                                               tweet likes  retweet_count  \\\n",
       "0  #Elecciones2020 | En #Florida: #JoeBiden dice ...   0.0            0.0   \n",
       "1  Usa 2020, Trump contro Facebook e Twitter: cop...  26.0            9.0   \n",
       "2  #Trump: As a student I used to hear for years,...   2.0            1.0   \n",
       "3  2 hours since last tweet from #Trump! Maybe he...   0.0            0.0   \n",
       "4  You get a tie! And you get a tie! #Trump ‘s ra...   4.0            3.0   \n",
       "\n",
       "               source               user_id              user_name  \\\n",
       "0           TweetDeck           360666534.0     El Sol Latino News   \n",
       "1    Social Mediaset            331617619.0                Tgcom24   \n",
       "2     Twitter Web App             8436472.0                 snarke   \n",
       "3       Trumpytweeter  8.28355589206057e+17          Trumpytweeter   \n",
       "4  Twitter for iPhone            47413798.0  Rana Abtar - رنا أبتر   \n",
       "\n",
       "  user_screen_name                                   user_description  ...  \\\n",
       "0  elsollatinonews  🌐 Noticias de interés para latinos de la costa...  ...   \n",
       "1  MediasetTgcom24  Profilo ufficiale di Tgcom24: tutte le notizie...  ...   \n",
       "2           snarke  Will mock for food! Freelance writer, blogger,...  ...   \n",
       "3    trumpytweeter  If he doesn't tweet for some time, should we b...  ...   \n",
       "4        Ranaabtar  Washington Correspondent, Lebanese-American ,c...  ...   \n",
       "\n",
       "  user_followers_count                 user_location         lat  \\\n",
       "0               1860.0  Philadelphia, PA / Miami, FL    25.77427   \n",
       "1            1067661.0                           NaN         NaN   \n",
       "2               1185.0                      Portland  45.5202471   \n",
       "3                 32.0                           NaN         NaN   \n",
       "4               5393.0                 Washington DC  38.8949924   \n",
       "\n",
       "           long        city                   country      continent  \\\n",
       "0     -80.19366         NaN  United States of America  North America   \n",
       "1           NaN         NaN                       NaN            NaN   \n",
       "2  -122.6741949    Portland  United States of America  North America   \n",
       "3           NaN         NaN                       NaN            NaN   \n",
       "4   -77.0365581  Washington  United States of America  North America   \n",
       "\n",
       "                  state state_code                   collected_at  \n",
       "0               Florida         FL            2020-10-21 00:00:00  \n",
       "1                   NaN        NaN  2020-10-21 00:00:00.373216530  \n",
       "2                Oregon         OR  2020-10-21 00:00:00.746433060  \n",
       "3                   NaN        NaN  2020-10-21 00:00:01.119649591  \n",
       "4  District of Columbia         DC  2020-10-21 00:00:01.492866121  \n",
       "\n",
       "[5 rows x 21 columns]"
      ]
     },
     "execution_count": 2,
     "metadata": {},
     "output_type": "execute_result"
    }
   ],
   "source": [
    "tweet_data = pd.read_csv('data/hashtag_donaldtrump.csv', engine = 'python')\n",
    "tweet_data.head()"
   ]
  },
  {
   "cell_type": "code",
   "execution_count": 3,
   "metadata": {},
   "outputs": [],
   "source": [
    "trump_tweet_data = tweet_data"
   ]
  },
  {
   "cell_type": "code",
   "execution_count": 4,
   "metadata": {},
   "outputs": [
    {
     "data": {
      "text/plain": [
       "971087"
      ]
     },
     "execution_count": 4,
     "metadata": {},
     "output_type": "execute_result"
    }
   ],
   "source": [
    "len(trump_tweet_data)"
   ]
  },
  {
   "cell_type": "code",
   "execution_count": 5,
   "metadata": {},
   "outputs": [
    {
     "data": {
      "text/plain": [
       "United States of America    178897\n",
       "United Kingdom               34742\n",
       "United States                34362\n",
       "Germany                      22618\n",
       "France                       20683\n",
       "                             ...  \n",
       "Florida                          1\n",
       "Gabon                            1\n",
       "Northern Mariana Islands         1\n",
       "England                          1\n",
       "Samoa                            1\n",
       "Name: country, Length: 188, dtype: int64"
      ]
     },
     "execution_count": 5,
     "metadata": {},
     "output_type": "execute_result"
    }
   ],
   "source": [
    "trump_tweet_data.country.value_counts()"
   ]
  },
  {
   "cell_type": "code",
   "execution_count": 6,
   "metadata": {},
   "outputs": [
    {
     "data": {
      "text/plain": [
       "Revue2presse                   1352\n",
       "Global News Report             1325\n",
       "Scott McLeod (he, him, his)     980\n",
       "t Logan                         964\n",
       "Hotpage News                    921\n",
       "                               ... \n",
       "Stephen Koranda                   1\n",
       "debates                           1\n",
       "biti                              1\n",
       "kikilala                          1\n",
       "voktyr 🗯                          1\n",
       "Name: user_name, Length: 285095, dtype: int64"
      ]
     },
     "execution_count": 6,
     "metadata": {},
     "output_type": "execute_result"
    }
   ],
   "source": [
    "trump_tweet_data.user_name.value_counts()"
   ]
  },
  {
   "cell_type": "code",
   "execution_count": 7,
   "metadata": {},
   "outputs": [
    {
     "data": {
      "text/plain": [
       "0         2020-10-15 00:00:01\n",
       "1         2020-10-15 00:00:01\n",
       "2         2020-10-15 00:00:02\n",
       "3         2020-10-15 00:00:02\n",
       "4         2020-10-15 00:00:08\n",
       "                 ...         \n",
       "971082    2020-11-08 23:59:43\n",
       "971083    2020-11-08 23:59:48\n",
       "971084    2020-11-08 23:59:53\n",
       "971085    2020-11-08 23:59:54\n",
       "971086    2020-11-08 23:59:55\n",
       "Name: created_at, Length: 971087, dtype: object"
      ]
     },
     "execution_count": 7,
     "metadata": {},
     "output_type": "execute_result"
    }
   ],
   "source": [
    "trump_tweet_data.created_at"
   ]
  },
  {
   "cell_type": "code",
   "execution_count": 8,
   "metadata": {},
   "outputs": [
    {
     "data": {
      "text/plain": [
       "Twitter Web App          321067\n",
       "Twitter for iPhone       274030\n",
       "Twitter for Android      269274\n",
       "Twitter for iPad          35333\n",
       "TweetDeck                 17484\n",
       "                          ...  \n",
       "SocialDog for Twitter         1\n",
       "MacTrackr                     1\n",
       "Hypefactors A/S               1\n",
       "Tradecaptainmena              1\n",
       "RealJudaldButtrump            1\n",
       "Name: source, Length: 914, dtype: int64"
      ]
     },
     "execution_count": 8,
     "metadata": {},
     "output_type": "execute_result"
    }
   ],
   "source": [
    "trump_tweet_data.source.value_counts()"
   ]
  },
  {
   "cell_type": "code",
   "execution_count": 59,
   "metadata": {},
   "outputs": [
    {
     "name": "stderr",
     "output_type": "stream",
     "text": [
      "/usr/local/Cellar/python@3.8/3.8.6/Frameworks/Python.framework/Versions/3.8/lib/python3.8/site-packages/ipykernel/ipkernel.py:287: DeprecationWarning: `should_run_async` will not call `transform_cell` automatically in the future. Please pass the result to `transformed_cell` argument and any exception that happen during thetransform in `preprocessing_exc_tuple` in IPython 7.17 and above.\n",
      "  and should_run_async(code)\n"
     ]
    },
    {
     "data": {
      "text/plain": [
       "178897"
      ]
     },
     "execution_count": 59,
     "metadata": {},
     "output_type": "execute_result"
    }
   ],
   "source": [
    "#Keep just tweets from US for now, should help reduce non-english tweets\n",
    "american_trump = trump_tweet_data[trump_tweet_data['country'] == 'United States of America']\n",
    "len(american_trump)"
   ]
  },
  {
   "cell_type": "code",
   "execution_count": 60,
   "metadata": {},
   "outputs": [
    {
     "name": "stderr",
     "output_type": "stream",
     "text": [
      "/usr/local/Cellar/python@3.8/3.8.6/Frameworks/Python.framework/Versions/3.8/lib/python3.8/site-packages/ipykernel/ipkernel.py:287: DeprecationWarning: `should_run_async` will not call `transform_cell` automatically in the future. Please pass the result to `transformed_cell` argument and any exception that happen during thetransform in `preprocessing_exc_tuple` in IPython 7.17 and above.\n",
      "  and should_run_async(code)\n"
     ]
    },
    {
     "data": {
      "text/plain": [
       "'If the American people don’t realize that @realDonaldTrump is the President for everyone, they don’t deserve him. #Trump #Trump2020LandslideVictory #MAGA #AmericaFirst'"
      ]
     },
     "execution_count": 60,
     "metadata": {},
     "output_type": "execute_result"
    }
   ],
   "source": [
    "american_trump.sample().tweet.item()"
   ]
  },
  {
   "cell_type": "code",
   "execution_count": 61,
   "metadata": {},
   "outputs": [
    {
     "name": "stderr",
     "output_type": "stream",
     "text": [
      "/usr/local/Cellar/python@3.8/3.8.6/Frameworks/Python.framework/Versions/3.8/lib/python3.8/site-packages/ipykernel/ipkernel.py:287: DeprecationWarning: `should_run_async` will not call `transform_cell` automatically in the future. Please pass the result to `transformed_cell` argument and any exception that happen during thetransform in `preprocessing_exc_tuple` in IPython 7.17 and above.\n",
      "  and should_run_async(code)\n"
     ]
    },
    {
     "name": "stdout",
     "output_type": "stream",
     "text": [
      "<class 'pandas.core.frame.DataFrame'>\n",
      "Int64Index: 178897 entries, 0 to 971073\n",
      "Data columns (total 21 columns):\n",
      " #   Column                Non-Null Count   Dtype  \n",
      "---  ------                --------------   -----  \n",
      " 0   created_at            178897 non-null  object \n",
      " 1   tweet_id              178897 non-null  object \n",
      " 2   tweet                 178897 non-null  object \n",
      " 3   likes                 178897 non-null  object \n",
      " 4   retweet_count         178897 non-null  float64\n",
      " 5   source                178883 non-null  object \n",
      " 6   user_id               178897 non-null  object \n",
      " 7   user_name             178896 non-null  object \n",
      " 8   user_screen_name      178897 non-null  object \n",
      " 9   user_description      168966 non-null  object \n",
      " 10  user_join_date        178897 non-null  object \n",
      " 11  user_followers_count  178897 non-null  object \n",
      " 12  user_location         178897 non-null  object \n",
      " 13  lat                   178897 non-null  object \n",
      " 14  long                  178897 non-null  object \n",
      " 15  city                  101966 non-null  object \n",
      " 16  country               178897 non-null  object \n",
      " 17  continent             178897 non-null  object \n",
      " 18  state                 178885 non-null  object \n",
      " 19  state_code            178885 non-null  object \n",
      " 20  collected_at          178897 non-null  object \n",
      "dtypes: float64(1), object(20)\n",
      "memory usage: 30.0+ MB\n"
     ]
    }
   ],
   "source": [
    "american_trump.info()"
   ]
  },
  {
   "cell_type": "code",
   "execution_count": 62,
   "metadata": {},
   "outputs": [
    {
     "name": "stderr",
     "output_type": "stream",
     "text": [
      "/usr/local/Cellar/python@3.8/3.8.6/Frameworks/Python.framework/Versions/3.8/lib/python3.8/site-packages/ipykernel/ipkernel.py:287: DeprecationWarning: `should_run_async` will not call `transform_cell` automatically in the future. Please pass the result to `transformed_cell` argument and any exception that happen during thetransform in `preprocessing_exc_tuple` in IPython 7.17 and above.\n",
      "  and should_run_async(code)\n"
     ]
    }
   ],
   "source": [
    "def clean_tweet(text):\n",
    "    #to lowercase\n",
    "    text = text.lower() \n",
    "    #remove brackets \n",
    "    text = re.sub(r'\\[.*?\\]', '', text)\n",
    "    #remove @username (i.e. @\"\")\n",
    "    text = re.sub(r'@\\w*', '', text)\n",
    "    #remove punctuation\n",
    "    text = re.sub(r'[%s]' % re.escape(string.punctuation), '', text)\n",
    "    #remove words containing numbers\n",
    "    text = re.sub(r'\\w*\\d\\w*', '', text)\n",
    "    return text\n",
    "\n",
    "trump_tweets = pd.DataFrame(american_trump.tweet.apply(lambda x: clean_tweet(x)))\n",
    "\n",
    "\n",
    "    \n"
   ]
  },
  {
   "cell_type": "code",
   "execution_count": 63,
   "metadata": {},
   "outputs": [
    {
     "name": "stderr",
     "output_type": "stream",
     "text": [
      "/usr/local/Cellar/python@3.8/3.8.6/Frameworks/Python.framework/Versions/3.8/lib/python3.8/site-packages/ipykernel/ipkernel.py:287: DeprecationWarning: `should_run_async` will not call `transform_cell` automatically in the future. Please pass the result to `transformed_cell` argument and any exception that happen during thetransform in `preprocessing_exc_tuple` in IPython 7.17 and above.\n",
      "  and should_run_async(code)\n"
     ]
    },
    {
     "data": {
      "text/html": [
       "<div>\n",
       "<style scoped>\n",
       "    .dataframe tbody tr th:only-of-type {\n",
       "        vertical-align: middle;\n",
       "    }\n",
       "\n",
       "    .dataframe tbody tr th {\n",
       "        vertical-align: top;\n",
       "    }\n",
       "\n",
       "    .dataframe thead th {\n",
       "        text-align: right;\n",
       "    }\n",
       "</style>\n",
       "<table border=\"1\" class=\"dataframe\">\n",
       "  <thead>\n",
       "    <tr style=\"text-align: right;\">\n",
       "      <th></th>\n",
       "      <th>tweet</th>\n",
       "    </tr>\n",
       "  </thead>\n",
       "  <tbody>\n",
       "    <tr>\n",
       "      <th>0</th>\n",
       "      <td>en florida joebiden dice que donaldtrump sol...</td>\n",
       "    </tr>\n",
       "    <tr>\n",
       "      <th>2</th>\n",
       "      <td>trump as a student i used to hear for years fo...</td>\n",
       "    </tr>\n",
       "    <tr>\n",
       "      <th>4</th>\n",
       "      <td>you get a tie and you get a tie trump ‘s rally...</td>\n",
       "    </tr>\n",
       "    <tr>\n",
       "      <th>5</th>\n",
       "      <td>her  minutes were over long time ago omarosa ...</td>\n",
       "    </tr>\n",
       "    <tr>\n",
       "      <th>7</th>\n",
       "      <td>there won’t be many of them  unless you all...</td>\n",
       "    </tr>\n",
       "    <tr>\n",
       "      <th>...</th>\n",
       "      <td>...</td>\n",
       "    </tr>\n",
       "    <tr>\n",
       "      <th>971061</th>\n",
       "      <td>being a trump you are intimately familiar wit...</td>\n",
       "    </tr>\n",
       "    <tr>\n",
       "      <th>971063</th>\n",
       "      <td>have you know decency trump   do you know what...</td>\n",
       "    </tr>\n",
       "    <tr>\n",
       "      <th>971065</th>\n",
       "      <td>lionz den presents to you \\n\\n“the white obama...</td>\n",
       "    </tr>\n",
       "    <tr>\n",
       "      <th>971068</th>\n",
       "      <td>trump patriots</td>\n",
       "    </tr>\n",
       "    <tr>\n",
       "      <th>971073</th>\n",
       "      <td>again with the lying cheating bs losertrump ca...</td>\n",
       "    </tr>\n",
       "  </tbody>\n",
       "</table>\n",
       "<p>178897 rows × 1 columns</p>\n",
       "</div>"
      ],
      "text/plain": [
       "                                                    tweet\n",
       "0         en florida joebiden dice que donaldtrump sol...\n",
       "2       trump as a student i used to hear for years fo...\n",
       "4       you get a tie and you get a tie trump ‘s rally...\n",
       "5        her  minutes were over long time ago omarosa ...\n",
       "7          there won’t be many of them  unless you all...\n",
       "...                                                   ...\n",
       "971061   being a trump you are intimately familiar wit...\n",
       "971063  have you know decency trump   do you know what...\n",
       "971065  lionz den presents to you \\n\\n“the white obama...\n",
       "971068                                   trump patriots  \n",
       "971073  again with the lying cheating bs losertrump ca...\n",
       "\n",
       "[178897 rows x 1 columns]"
      ]
     },
     "execution_count": 63,
     "metadata": {},
     "output_type": "execute_result"
    }
   ],
   "source": [
    "#n = 6000\n",
    "#just isolated tweets now, let's take only n of them\n",
    "#trump_tweets = trump_tweets[:n]\n",
    "trump_tweets"
   ]
  },
  {
   "cell_type": "code",
   "execution_count": 26,
   "metadata": {},
   "outputs": [],
   "source": [
    "#lemmatization \n",
    "#this step takes a while, maybe figure out how to speed up \n",
    "nlp = spacy.load('en_core_web_sm')\n",
    "def lemmatizer(text):        \n",
    "    sent = []\n",
    "    doc = nlp(text)\n",
    "    for word in doc:\n",
    "        sent.append(word.lemma_)\n",
    "    return \" \".join(sent)\n",
    "trump_tweets['tweet'] = trump_tweets.tweet.map(lambda x: lemmatizer(x))\n",
    "trump_tweets['tweet'] = trump_tweets['tweet'].str.replace('-PRON-', '')\n",
    "\n"
   ]
  },
  {
   "cell_type": "code",
   "execution_count": 64,
   "metadata": {},
   "outputs": [
    {
     "name": "stderr",
     "output_type": "stream",
     "text": [
      "/usr/local/Cellar/python@3.8/3.8.6/Frameworks/Python.framework/Versions/3.8/lib/python3.8/site-packages/ipykernel/ipkernel.py:287: DeprecationWarning: `should_run_async` will not call `transform_cell` automatically in the future. Please pass the result to `transformed_cell` argument and any exception that happen during thetransform in `preprocessing_exc_tuple` in IPython 7.17 and above.\n",
      "  and should_run_async(code)\n"
     ]
    }
   ],
   "source": [
    "trump_tweets.head()\n",
    "\n",
    "data = trump_tweets.tweet.values.tolist()"
   ]
  },
  {
   "cell_type": "code",
   "execution_count": 65,
   "metadata": {},
   "outputs": [
    {
     "name": "stderr",
     "output_type": "stream",
     "text": [
      "/usr/local/Cellar/python@3.8/3.8.6/Frameworks/Python.framework/Versions/3.8/lib/python3.8/site-packages/ipykernel/ipkernel.py:287: DeprecationWarning: `should_run_async` will not call `transform_cell` automatically in the future. Please pass the result to `transformed_cell` argument and any exception that happen during thetransform in `preprocessing_exc_tuple` in IPython 7.17 and above.\n",
      "  and should_run_async(code)\n"
     ]
    },
    {
     "data": {
      "image/png": "[encoded data removed]",
      "text/plain": [
       "<PIL.Image.Image image mode=RGB size=400x200 at 0x189F67E80>"
      ]
     },
     "execution_count": 65,
     "metadata": {},
     "output_type": "execute_result"
    }
   ],
   "source": [
    "\n",
    "# Import the wordcloud library\n",
    "from wordcloud import WordCloud\n",
    "\n",
    "# Join the different tweets \n",
    "long_string = ','.join(data)\n",
    "\n",
    "# Create a WordCloud object\n",
    "wordcloud = WordCloud(background_color=\"white\", max_words=1000, contour_width=3, contour_color='steelblue')\n",
    "\n",
    "# Generate a word cloud\n",
    "wordcloud.generate(long_string)\n",
    "\n",
    "# Visualize the word cloud\n",
    "wordcloud.to_image()"
   ]
  },
  {
   "cell_type": "code",
   "execution_count": 66,
   "metadata": {},
   "outputs": [
    {
     "name": "stderr",
     "output_type": "stream",
     "text": [
      "/usr/local/Cellar/python@3.8/3.8.6/Frameworks/Python.framework/Versions/3.8/lib/python3.8/site-packages/ipykernel/ipkernel.py:287: DeprecationWarning: `should_run_async` will not call `transform_cell` automatically in the future. Please pass the result to `transformed_cell` argument and any exception that happen during thetransform in `preprocessing_exc_tuple` in IPython 7.17 and above.\n",
      "  and should_run_async(code)\n"
     ]
    }
   ],
   "source": [
    "stop_words = stopwords.words('english')\n",
    "\n",
    "def sent_to_words(sentences):\n",
    "    for sentence in sentences:\n",
    "        # deacc=True removes punctuations\n",
    "        yield(gensim.utils.simple_preprocess(str(sentence), deacc=True))\n",
    "\n",
    "def remove_stopwords(texts):\n",
    "    return [[word for word in simple_preprocess(str(doc)) \n",
    "             if word not in stop_words] for doc in texts]\n",
    "\n",
    "data_words = list(sent_to_words(data))\n",
    "\n",
    "# remove stop words\n",
    "data_words = remove_stopwords(data_words)"
   ]
  },
  {
   "cell_type": "code",
   "execution_count": 67,
   "metadata": {},
   "outputs": [
    {
     "name": "stderr",
     "output_type": "stream",
     "text": [
      "/usr/local/Cellar/python@3.8/3.8.6/Frameworks/Python.framework/Versions/3.8/lib/python3.8/site-packages/ipykernel/ipkernel.py:287: DeprecationWarning: `should_run_async` will not call `transform_cell` automatically in the future. Please pass the result to `transformed_cell` argument and any exception that happen during thetransform in `preprocessing_exc_tuple` in IPython 7.17 and above.\n",
      "  and should_run_async(code)\n"
     ]
    },
    {
     "data": {
      "text/plain": [
       "['get', 'tie', 'get', 'tie', 'trump', 'rally', 'iowa']"
      ]
     },
     "execution_count": 67,
     "metadata": {},
     "output_type": "execute_result"
    }
   ],
   "source": [
    "data_words[2]"
   ]
  },
  {
   "cell_type": "code",
   "execution_count": 68,
   "metadata": {},
   "outputs": [
    {
     "name": "stderr",
     "output_type": "stream",
     "text": [
      "/usr/local/Cellar/python@3.8/3.8.6/Frameworks/Python.framework/Versions/3.8/lib/python3.8/site-packages/ipykernel/ipkernel.py:287: DeprecationWarning: `should_run_async` will not call `transform_cell` automatically in the future. Please pass the result to `transformed_cell` argument and any exception that happen during thetransform in `preprocessing_exc_tuple` in IPython 7.17 and above.\n",
      "  and should_run_async(code)\n"
     ]
    },
    {
     "name": "stdout",
     "output_type": "stream",
     "text": [
      "[(0, 1), (1, 1), (2, 1), (3, 2), (4, 1), (5, 1), (6, 1), (7, 2), (8, 1), (9, 1), (10, 2), (11, 1), (12, 1), (13, 1), (14, 1), (15, 1), (16, 1), (17, 1), (18, 1), (19, 1), (20, 1), (21, 1)]\n",
      "Number of unique tokens (words): 44904\n",
      "Number of documents: 178897\n"
     ]
    }
   ],
   "source": [
    "#make corpa\n",
    "\n",
    "# Create Dictionary\n",
    "id2word = corpora.Dictionary(data_words)\n",
    "\n",
    "#More pre-procesing, remove extremes \n",
    "id2word.filter_extremes(no_below=2, no_above=0.5) \n",
    "#filter words that occur in less than 2 docs or more than 50% of the data\n",
    "\n",
    "# Create Corpus\n",
    "texts = data_words\n",
    "corpus = [id2word.doc2bow(text) for text in texts]\n",
    "\n",
    "\n",
    "\n",
    "# View\n",
    "print(corpus[:1][0][:30])\n",
    "\n",
    "print('Number of unique tokens (words): %d' % len(id2word))\n",
    "print('Number of documents: %d' % len(corpus))"
   ]
  },
  {
   "cell_type": "code",
   "execution_count": 69,
   "metadata": {},
   "outputs": [
    {
     "name": "stderr",
     "output_type": "stream",
     "text": [
      "/usr/local/Cellar/python@3.8/3.8.6/Frameworks/Python.framework/Versions/3.8/lib/python3.8/site-packages/ipykernel/ipkernel.py:287: DeprecationWarning: `should_run_async` will not call `transform_cell` automatically in the future. Please pass the result to `transformed_cell` argument and any exception that happen during thetransform in `preprocessing_exc_tuple` in IPython 7.17 and above.\n",
      "  and should_run_async(code)\n"
     ]
    },
    {
     "name": "stdout",
     "output_type": "stream",
     "text": [
      "[(0,\n",
      "  '0.020*\"amp\" + 0.014*\"people\" + 0.012*\"like\" + 0.011*\"get\" + 0.010*\"us\" + '\n",
      "  '0.010*\"would\" + 0.008*\"one\" + 0.008*\"fraud\" + 0.007*\"going\" + 0.007*\"know\"'),\n",
      " (1,\n",
      "  '0.030*\"trumpmeltdown\" + 0.024*\"ballots\" + 0.020*\"georgia\" + 0.018*\"loser\" + '\n",
      "  '0.018*\"bidenharris\" + 0.016*\"please\" + 0.013*\"arizona\" + 0.012*\"voterfraud\" '\n",
      "  '+ 0.010*\"nevada\" + 0.007*\"total\"'),\n",
      " (2,\n",
      "  '0.015*\"twitter\" + 0.011*\"yourefired\" + 0.009*\"new\" + 0.009*\"care\" + '\n",
      "  '0.009*\"amp\" + 0.009*\"pa\" + 0.008*\"black\" + 0.007*\"power\" + 0.007*\"read\" + '\n",
      "  '0.007*\"steal\"'),\n",
      " (3,\n",
      "  '0.053*\"biden\" + 0.035*\"donaldtrump\" + 0.025*\"election\" + 0.019*\"president\" '\n",
      "  '+ 0.017*\"vote\" + 0.014*\"votes\" + 0.013*\"joebiden\" + 0.012*\"america\" + '\n",
      "  '0.012*\"maga\" + 0.009*\"supporters\"'),\n",
      " (4,\n",
      "  '0.036*\"de\" + 0.020*\"la\" + 0.016*\"que\" + 0.015*\"en\" + 0.013*\"el\" + '\n",
      "  '0.012*\"concede\" + 0.011*\"blue\" + 0.010*\"trumpout\" + 0.007*\"los\" + '\n",
      "  '0.007*\"winner\"')]\n"
     ]
    }
   ],
   "source": [
    "from pprint import pprint\n",
    "\n",
    "# number of topics\n",
    "num_topics = 10\n",
    "\n",
    "# Build LDA model\n",
    "# lda_model = gensim.models.LdaMulticore(corpus=corpus,\n",
    "#                                        id2word=id2word,\n",
    "#                                        num_topics=num_topics)\n",
    "\n",
    "# Set training parameters.\n",
    "#num_topics = 5\n",
    "chunksize = 2000\n",
    "passes = 20\n",
    "iterations = 400\n",
    "eval_every = None \n",
    "\n",
    "model = gensim.models.LdaModel(\n",
    "    corpus=corpus,\n",
    "    id2word=id2word,\n",
    "    chunksize=chunksize,\n",
    "    alpha='auto',\n",
    "    eta='auto',\n",
    "    iterations=iterations,\n",
    "    num_topics=num_topics,\n",
    "    passes=passes,\n",
    "    eval_every=eval_every\n",
    ")\n",
    "\n",
    "# Print the Keyword in the 10 topics\n",
    "pprint(model.print_topics())\n",
    "doc_lda = model[corpus]"
   ]
  },
  {
   "cell_type": "code",
   "execution_count": 70,
   "metadata": {},
   "outputs": [
    {
     "name": "stderr",
     "output_type": "stream",
     "text": [
      "/usr/local/Cellar/python@3.8/3.8.6/Frameworks/Python.framework/Versions/3.8/lib/python3.8/site-packages/ipykernel/ipkernel.py:287: DeprecationWarning: `should_run_async` will not call `transform_cell` automatically in the future. Please pass the result to `transformed_cell` argument and any exception that happen during thetransform in `preprocessing_exc_tuple` in IPython 7.17 and above.\n",
      "  and should_run_async(code)\n"
     ]
    },
    {
     "name": "stdout",
     "output_type": "stream",
     "text": [
      "Average topic coherence: -6.5482.\n",
      "[([(0.019710891, 'amp'),\n",
      "   (0.01436701, 'people'),\n",
      "   (0.0119635835, 'like'),\n",
      "   (0.010829844, 'get'),\n",
      "   (0.009815663, 'us'),\n",
      "   (0.009553922, 'would'),\n",
      "   (0.008454267, 'one'),\n",
      "   (0.0077300584, 'fraud'),\n",
      "   (0.0070341444, 'going'),\n",
      "   (0.0068820766, 'know'),\n",
      "   (0.0063373796, 'trumps'),\n",
      "   (0.006153849, 'still'),\n",
      "   (0.006133132, 'never'),\n",
      "   (0.0061155735, 'go'),\n",
      "   (0.0060830703, 'country'),\n",
      "   (0.0059564426, 'white'),\n",
      "   (0.0056937817, 'see'),\n",
      "   (0.0054467735, 'think'),\n",
      "   (0.005432899, 'lost'),\n",
      "   (0.0053839413, 'dont')],\n",
      "  -3.3629416451765146),\n",
      " ([(0.05251616, 'biden'),\n",
      "   (0.03486771, 'donaldtrump'),\n",
      "   (0.024513071, 'election'),\n",
      "   (0.019246507, 'president'),\n",
      "   (0.016853174, 'vote'),\n",
      "   (0.014154832, 'votes'),\n",
      "   (0.012718302, 'joebiden'),\n",
      "   (0.012166913, 'america'),\n",
      "   (0.011705383, 'maga'),\n",
      "   (0.008876291, 'supporters'),\n",
      "   (0.008334629, 'voted'),\n",
      "   (0.0069658104, 'win'),\n",
      "   (0.0069241845, 'years'),\n",
      "   (0.0067932224, 'gop'),\n",
      "   (0.0063349674, 'democrats'),\n",
      "   (0.0063234787, 'right'),\n",
      "   (0.0062615685, 'news'),\n",
      "   (0.0061272904, 'usa'),\n",
      "   (0.0058478788, 'republicans'),\n",
      "   (0.0056252275, 'donald')],\n",
      "  -3.368472794001994),\n",
      " ([(0.029927908, 'trumpmeltdown'),\n",
      "   (0.024293913, 'ballots'),\n",
      "   (0.020239512, 'georgia'),\n",
      "   (0.018370718, 'loser'),\n",
      "   (0.017950905, 'bidenharris'),\n",
      "   (0.015941793, 'please'),\n",
      "   (0.012646026, 'arizona'),\n",
      "   (0.011760197, 'voterfraud'),\n",
      "   (0.009848428, 'nevada'),\n",
      "   (0.0073138922, 'total'),\n",
      "   (0.0061102873, 'finally'),\n",
      "   (0.0059356466, 'blm'),\n",
      "   (0.0057909144, 'mailin'),\n",
      "   (0.005052778, 'rest'),\n",
      "   (0.004978563, 'process'),\n",
      "   (0.004817391, 'texas'),\n",
      "   (0.00436084, 'dumptrump'),\n",
      "   (0.004306675, 'pardon'),\n",
      "   (0.0039937105, 'congratulations'),\n",
      "   (0.003954267, 'ga')],\n",
      "  -7.283582931654588),\n",
      " ([(0.014584131, 'twitter'),\n",
      "   (0.011280652, 'yourefired'),\n",
      "   (0.009398063, 'new'),\n",
      "   (0.009305542, 'care'),\n",
      "   (0.008932022, 'amp'),\n",
      "   (0.008868298, 'pa'),\n",
      "   (0.00790097, 'black'),\n",
      "   (0.0071637086, 'power'),\n",
      "   (0.007103471, 'read'),\n",
      "   (0.007062643, 'steal'),\n",
      "   (0.006888986, 'person'),\n",
      "   (0.006622016, 'accept'),\n",
      "   (0.0065190545, 'claims'),\n",
      "   (0.0056773806, 'rigged'),\n",
      "   (0.0055601764, 'russia'),\n",
      "   (0.0054697506, 'trumpvsbiden'),\n",
      "   (0.0050607338, 'dejoy'),\n",
      "   (0.00496791, 'putin'),\n",
      "   (0.0048277653, 'millions'),\n",
      "   (0.0046741185, 'yourefiredtrump')],\n",
      "  -7.63625601366053),\n",
      " ([(0.03615768, 'de'),\n",
      "   (0.020261247, 'la'),\n",
      "   (0.015656078, 'que'),\n",
      "   (0.0154156955, 'en'),\n",
      "   (0.013173139, 'el'),\n",
      "   (0.0123676965, 'concede'),\n",
      "   (0.010626346, 'blue'),\n",
      "   (0.009636473, 'trumpout'),\n",
      "   (0.007439742, 'los'),\n",
      "   (0.0071644313, 'winner'),\n",
      "   (0.0069891904, 'se'),\n",
      "   (0.006461262, 'byedon'),\n",
      "   (0.0061584357, 'un'),\n",
      "   (0.0059862854, 'lawsuits'),\n",
      "   (0.005692563, 'crimes'),\n",
      "   (0.005676047, 'con'),\n",
      "   (0.0053898785, 'las'),\n",
      "   (0.005328369, 'por'),\n",
      "   (0.0051574586, 'january'),\n",
      "   (0.005003767, 'le')],\n",
      "  -11.089820327471175)]\n"
     ]
    }
   ],
   "source": [
    "top_topics = model.top_topics(corpus) #, num_words=20)\n",
    "\n",
    "# Average topic coherence is the sum of topic coherences of all topics, divided by the number of topics.\n",
    "avg_topic_coherence = sum([t[1] for t in top_topics]) / num_topics\n",
    "print('Average topic coherence: %.4f.' % avg_topic_coherence)\n",
    "\n",
    "from pprint import pprint\n",
    "pprint(top_topics)"
   ]
  },
  {
   "cell_type": "code",
   "execution_count": 71,
   "metadata": {},
   "outputs": [
    {
     "name": "stderr",
     "output_type": "stream",
     "text": [
      "/usr/local/Cellar/python@3.8/3.8.6/Frameworks/Python.framework/Versions/3.8/lib/python3.8/site-packages/ipykernel/ipkernel.py:287: DeprecationWarning: `should_run_async` will not call `transform_cell` automatically in the future. Please pass the result to `transformed_cell` argument and any exception that happen during thetransform in `preprocessing_exc_tuple` in IPython 7.17 and above.\n",
      "  and should_run_async(code)\n"
     ]
    },
    {
     "data": {
      "text/html": [
       "\n",
       "<link rel=\"stylesheet\" type=\"text/css\" href=\"https://cdn.rawgit.com/bmabey/pyLDAvis/files/ldavis.v1.0.0.css\">\n",
       "\n",
       "\n",
       "<div id=\"ldavis_el5795460958893442008777433\"></div>\n",
       "<script type=\"text/javascript\">\n",
       "\n",
       "var ldavis_el5795460958893442008777433_data = {\"mdsDat\": {\"x\": [0.3477328279383768, 0.12516568153300303, -0.07742608165863538, -0.20349454931019012, -0.19197787850255463], \"y\": [0.15715929319669145, -0.35014532138301596, 0.2343265253494115, 0.0535522755670323, -0.09489277273011923], \"topics\": [1, 2, 3, 4, 5], \"cluster\": [1, 1, 1, 1, 1], \"Freq\": [39.62034779171448, 34.69907726695702, 9.068136599644582, 8.873475261191881, 7.738963080492037]}, \"tinfo\": {\"Term\": [\"biden\", \"donaldtrump\", \"election\", \"de\", \"president\", \"amp\", \"trumpmeltdown\", \"people\", \"ballots\", \"votes\", \"vote\", \"america\", \"georgia\", \"maga\", \"la\", \"joebiden\", \"loser\", \"bidenharris\", \"get\", \"us\", \"would\", \"please\", \"supporters\", \"twitter\", \"que\", \"one\", \"like\", \"en\", \"voted\", \"fraud\", \"people\", \"us\", \"would\", \"one\", \"fraud\", \"going\", \"know\", \"trumps\", \"still\", \"never\", \"country\", \"white\", \"think\", \"dont\", \"lost\", \"house\", \"states\", \"need\", \"even\", \"back\", \"could\", \"want\", \"way\", \"good\", \"stop\", \"say\", \"many\", \"said\", \"americans\", \"nothing\", \"see\", \"get\", \"amp\", \"like\", \"go\", \"time\", \"election\", \"president\", \"votes\", \"america\", \"maga\", \"supporters\", \"voted\", \"win\", \"gop\", \"democrats\", \"news\", \"usa\", \"republicans\", \"day\", \"make\", \"via\", \"joe\", \"elections\", \"media\", \"trumpislosing\", \"republican\", \"today\", \"democracy\", \"truth\", \"count\", \"politics\", \"electionday\", \"needs\", \"campaign\", \"state\", \"biden\", \"donaldtrump\", \"vote\", \"joebiden\", \"right\", \"donald\", \"years\", \"twitter\", \"yourefired\", \"care\", \"pa\", \"black\", \"power\", \"read\", \"steal\", \"person\", \"accept\", \"claims\", \"rigged\", \"russia\", \"trumpvsbiden\", \"putin\", \"dejoy\", \"millions\", \"follow\", \"false\", \"yourefiredtrump\", \"imagine\", \"china\", \"knew\", \"heard\", \"streets\", \"book\", \"military\", \"post\", \"week\", \"elect\", \"new\", \"amp\", \"trumpmeltdown\", \"ballots\", \"georgia\", \"loser\", \"bidenharris\", \"please\", \"arizona\", \"voterfraud\", \"nevada\", \"total\", \"finally\", \"blm\", \"mailin\", \"rest\", \"process\", \"texas\", \"dumptrump\", \"pardon\", \"ga\", \"congratulations\", \"california\", \"violence\", \"college\", \"resist\", \"outside\", \"yall\", \"kamalaharrisvp\", \"received\", \"wow\", \"courts\", \"vote\", \"de\", \"la\", \"que\", \"en\", \"el\", \"concede\", \"blue\", \"trumpout\", \"los\", \"se\", \"winner\", \"un\", \"byedon\", \"con\", \"lawsuits\", \"crimes\", \"las\", \"por\", \"le\", \"es\", \"january\", \"ha\", \"presidente\", \"elecciones\", \"thinking\", \"para\", \"del\", \"county\", \"philly\", \"investigate\", \"codes\"], \"Freq\": [39886.0, 26757.0, 18429.0, 6063.0, 14470.0, 18675.0, 5754.0, 12333.0, 4671.0, 10642.0, 13357.0, 9147.0, 3891.0, 8800.0, 3398.0, 10079.0, 3532.0, 3451.0, 9410.0, 8426.0, 8201.0, 3065.0, 6673.0, 2866.0, 2625.0, 7258.0, 11427.0, 2585.0, 6266.0, 6636.0, 12332.718522815923, 8425.817645694226, 8201.137979776755, 7257.187905363, 6635.523424420357, 6038.147103006319, 5907.611336571041, 5440.040481940217, 5282.496819341056, 5264.713403237764, 5221.740045441084, 5113.042117315387, 4675.539462152337, 4621.604014778083, 4663.6296219042415, 4605.001789409248, 4373.625111794627, 4315.432581062687, 4294.726767172726, 4145.407070113565, 4121.869596270004, 4050.224282401643, 4017.6989663705185, 3940.509850709882, 3921.6231904688243, 3871.0162626363017, 3791.241718322378, 3480.419071278341, 3491.244854243241, 3365.4370485548825, 4887.572592551457, 9296.395589328333, 16919.934098038924, 10269.60401805656, 5249.640929794738, 3986.0514489359643, 18428.49141746079, 14469.182228182022, 10641.35103705862, 9146.868704611392, 8799.898698072719, 6673.037896152842, 6265.826132076103, 5236.772482355243, 5107.023859045813, 4762.515936169377, 4707.335925776526, 4606.388045093615, 4396.331314819207, 4181.112365622098, 4008.8337238343574, 3856.1838366238503, 3788.8985523853403, 3698.915748407763, 3623.72435050112, 3558.7278623643747, 3446.6255139251884, 3406.582434496578, 3311.340090501731, 3264.101201364988, 3239.8367419881884, 3005.080057942579, 2938.096539112408, 2747.8686317805063, 2708.4313586617927, 2701.3845062404903, 39480.71473478289, 26212.925711312542, 12669.916833312282, 9561.393553815979, 4753.878864064339, 4228.946033678526, 5205.478849389068, 2865.3173334401267, 2216.2889901678914, 1828.2427980654402, 1742.3381212292356, 1552.2890642933985, 1407.4406539680454, 1395.605907296294, 1387.5844559965324, 1353.466436356902, 1301.0153045966954, 1280.7866605356123, 1115.42453073402, 1092.3976464136415, 1074.6318490072447, 976.0361014024139, 994.2730600373262, 948.5021711089129, 897.9301950057364, 877.4673426446535, 918.3154658674445, 845.6607576532641, 822.1414869771828, 806.8840055712143, 806.2336201006286, 784.9341134803665, 755.4351664011048, 737.7510216930477, 733.0689141644368, 712.2958730372799, 723.8197905296371, 1846.4201067739461, 1754.858018666104, 5753.66039403138, 4670.521069429187, 3891.059730601911, 3531.7828741332614, 3451.0736808849874, 3064.820469934131, 2431.2070191841435, 2260.905733436462, 1893.3669140748775, 1406.1007145806718, 1174.7068469862609, 1141.1320589375373, 1113.3071988608951, 971.3999648515377, 957.132125738527, 926.1466315606465, 838.3744662852605, 827.9611594442484, 760.210521249203, 767.7935364286757, 733.6473633877088, 725.0651294709193, 705.9683821743428, 695.4865001818919, 697.9962522484876, 686.1784081347288, 756.3095261787751, 691.7681782139587, 663.9705333410207, 663.8794877417865, 687.4617750844045, 6062.579489519946, 3397.215274201151, 2625.063939564287, 2584.7588229920866, 2208.747996432964, 2073.6990206089827, 1781.725726120399, 1615.7531384118674, 1247.425938773678, 1171.881699421959, 1201.2644478039729, 1032.5885757251185, 1083.363600188686, 951.7061637020838, 1003.7240290692934, 954.4754237328902, 903.7241348915559, 893.4107727981409, 838.9846006290192, 831.1739412825159, 864.7541470699699, 748.9282144574651, 692.9585241438466, 630.1612508637825, 670.3781396296557, 626.6404148473964, 585.4621162645238, 599.3414432876499, 555.7170873326357, 552.9458753592115, 561.7150946864921], \"Total\": [39886.0, 26757.0, 18429.0, 6063.0, 14470.0, 18675.0, 5754.0, 12333.0, 4671.0, 10642.0, 13357.0, 9147.0, 3891.0, 8800.0, 3398.0, 10079.0, 3532.0, 3451.0, 9410.0, 8426.0, 8201.0, 3065.0, 6673.0, 2866.0, 2625.0, 7258.0, 11427.0, 2585.0, 6266.0, 6636.0, 12333.558519094413, 8426.660097676191, 8201.979076228796, 7258.029550883068, 6636.373994579339, 6038.985851639112, 5908.449888070775, 5440.881448205731, 5283.33722848107, 5265.555255040403, 5222.578941599154, 5113.890833879677, 4676.3776402290405, 4622.4431337999, 4664.476626815436, 4605.851091561822, 4374.466213965131, 4316.2726883067835, 4295.565622239149, 4146.248967475911, 4122.7208252897435, 4051.063271657581, 4018.538270206299, 3941.3503252911955, 3922.467772051765, 3871.8560256629594, 3792.0818224178242, 3481.2577340120743, 3492.0861945665893, 3366.2887347723513, 4893.727609819531, 9410.956530395824, 18675.401999206297, 11427.136913089753, 5637.1728908734085, 6797.806258460736, 18429.338846195697, 14470.031846769574, 10642.202654551138, 9147.714688299506, 8800.742546881293, 6673.889473095422, 6266.67275740763, 5237.616531720391, 5107.8708809813925, 4763.365117387218, 4708.182672327018, 4607.238187267693, 4397.179236854094, 4181.959172270247, 4009.6817701831333, 3857.0344209428604, 3789.7468017108704, 3699.7644695687554, 3624.575769635362, 3559.5890020986944, 3447.4708563081213, 3407.4295296284927, 3312.1868544215035, 3264.952687608981, 3240.6837410598155, 3005.923890206345, 2938.9355101454707, 2748.7208005334674, 2709.2791737538973, 2702.23169916306, 39886.173563532175, 26757.073305178576, 13357.998873861512, 10079.390334872955, 4876.316746759763, 4358.680693929685, 5531.439091796794, 2866.141257700643, 2217.125630380911, 1829.0662338975596, 1743.162606083437, 1553.112440249132, 1408.2650054387393, 1396.4281119021887, 1388.4091758953916, 1354.289301193488, 1301.8506811621921, 1281.6111035779297, 1116.2527963501382, 1093.218513282713, 1075.462913966555, 976.8572954229373, 995.1204629270815, 949.3318380130644, 898.7537505040121, 878.2904142810861, 919.1771022552465, 846.4865882028804, 822.9628750385533, 807.7077135058884, 807.057325469737, 785.7714341286797, 756.2565168699828, 738.5714321814486, 733.8919651216959, 713.1180313358626, 724.6571642661265, 3860.337535625865, 18675.401999206297, 5754.5000843606185, 4671.354376527937, 3891.8904973150175, 3532.6236256395596, 3451.9083741382847, 3065.652646409923, 2432.035851789644, 2261.7536111569957, 1894.1960442102925, 1406.9367528047776, 1175.545656735549, 1141.9605613362326, 1114.157910367911, 972.2422390571616, 957.9721839141878, 926.9716648560799, 839.2000680541697, 828.8078332540532, 761.038910873351, 768.6533002281609, 734.4785484316579, 725.8913830892625, 706.8035215204425, 696.3210117466972, 698.835440430572, 687.0161050210647, 757.2376866613134, 692.6184950230112, 664.8017396307825, 664.7202505466523, 13357.998873861512, 6063.440533834641, 3398.078290566471, 2625.924784609677, 2585.619762877539, 2209.608872630152, 2074.6434173950206, 1782.6100695886535, 1616.763643262849, 1248.2892447579093, 1172.7436102483662, 1202.169985943668, 1033.4509135381813, 1084.2918711254179, 952.5768107259486, 1004.6426969024102, 955.3810704001179, 904.5892367574003, 894.2714618180642, 839.8462668332185, 832.0349431202329, 865.670567449864, 749.7965716352518, 693.8212619416039, 631.0234171358601, 671.2959124122939, 627.5009958811793, 586.3238962918035, 600.230384516371, 556.6170454178175, 553.85674582322, 562.8464892254128], \"Category\": [\"Default\", \"Default\", \"Default\", \"Default\", \"Default\", \"Default\", \"Default\", \"Default\", \"Default\", \"Default\", \"Default\", \"Default\", \"Default\", \"Default\", \"Default\", \"Default\", \"Default\", \"Default\", \"Default\", \"Default\", \"Default\", \"Default\", \"Default\", \"Default\", \"Default\", \"Default\", \"Default\", \"Default\", \"Default\", \"Default\", \"Topic1\", \"Topic1\", \"Topic1\", \"Topic1\", \"Topic1\", \"Topic1\", \"Topic1\", \"Topic1\", \"Topic1\", \"Topic1\", \"Topic1\", \"Topic1\", \"Topic1\", \"Topic1\", \"Topic1\", \"Topic1\", \"Topic1\", \"Topic1\", \"Topic1\", \"Topic1\", \"Topic1\", \"Topic1\", \"Topic1\", \"Topic1\", \"Topic1\", \"Topic1\", \"Topic1\", \"Topic1\", \"Topic1\", \"Topic1\", \"Topic1\", \"Topic1\", \"Topic1\", \"Topic1\", \"Topic1\", \"Topic1\", \"Topic2\", \"Topic2\", \"Topic2\", \"Topic2\", \"Topic2\", \"Topic2\", \"Topic2\", \"Topic2\", \"Topic2\", \"Topic2\", \"Topic2\", \"Topic2\", \"Topic2\", \"Topic2\", \"Topic2\", \"Topic2\", \"Topic2\", \"Topic2\", \"Topic2\", \"Topic2\", \"Topic2\", \"Topic2\", \"Topic2\", \"Topic2\", \"Topic2\", \"Topic2\", \"Topic2\", \"Topic2\", \"Topic2\", \"Topic2\", \"Topic2\", \"Topic2\", \"Topic2\", \"Topic2\", \"Topic2\", \"Topic2\", \"Topic2\", \"Topic3\", \"Topic3\", \"Topic3\", \"Topic3\", \"Topic3\", \"Topic3\", \"Topic3\", \"Topic3\", \"Topic3\", \"Topic3\", \"Topic3\", \"Topic3\", \"Topic3\", \"Topic3\", \"Topic3\", \"Topic3\", \"Topic3\", \"Topic3\", \"Topic3\", \"Topic3\", \"Topic3\", \"Topic3\", \"Topic3\", \"Topic3\", \"Topic3\", \"Topic3\", \"Topic3\", \"Topic3\", \"Topic3\", \"Topic3\", \"Topic3\", \"Topic3\", \"Topic4\", \"Topic4\", \"Topic4\", \"Topic4\", \"Topic4\", \"Topic4\", \"Topic4\", \"Topic4\", \"Topic4\", \"Topic4\", \"Topic4\", \"Topic4\", \"Topic4\", \"Topic4\", \"Topic4\", \"Topic4\", \"Topic4\", \"Topic4\", \"Topic4\", \"Topic4\", \"Topic4\", \"Topic4\", \"Topic4\", \"Topic4\", \"Topic4\", \"Topic4\", \"Topic4\", \"Topic4\", \"Topic4\", \"Topic4\", \"Topic4\", \"Topic5\", \"Topic5\", \"Topic5\", \"Topic5\", \"Topic5\", \"Topic5\", \"Topic5\", \"Topic5\", \"Topic5\", \"Topic5\", \"Topic5\", \"Topic5\", \"Topic5\", \"Topic5\", \"Topic5\", \"Topic5\", \"Topic5\", \"Topic5\", \"Topic5\", \"Topic5\", \"Topic5\", \"Topic5\", \"Topic5\", \"Topic5\", \"Topic5\", \"Topic5\", \"Topic5\", \"Topic5\", \"Topic5\", \"Topic5\", \"Topic5\"], \"logprob\": [30.0, 29.0, 28.0, 27.0, 26.0, 25.0, 24.0, 23.0, 22.0, 21.0, 20.0, 19.0, 18.0, 17.0, 16.0, 15.0, 14.0, 13.0, 12.0, 11.0, 10.0, 9.0, 8.0, 7.0, 6.0, 5.0, 4.0, 3.0, 2.0, 1.0, -4.242800235748291, -4.623799800872803, -4.6508002281188965, -4.773099899291992, -4.862599849700928, -4.956999778747559, -4.978799819946289, -5.061299800872803, -5.090700149536133, -5.093999862670898, -5.102200031280518, -5.123300075531006, -5.212699890136719, -5.224299907684326, -5.2153000831604, -5.22790002822876, -5.2795000076293945, -5.292900085449219, -5.297699928283691, -5.333099842071533, -5.338799953460693, -5.356299877166748, -5.3643999099731445, -5.383800029754639, -5.388599872589111, -5.401599884033203, -5.422399997711182, -5.507900238037109, -5.504799842834473, -5.541500091552734, -5.168399810791016, -4.525400161743164, -3.9265999794006348, -4.425899982452393, -5.09689998626709, -5.372300148010254, -3.7084999084472656, -3.9504001140594482, -4.257699966430664, -4.408999919891357, -4.447700023651123, -4.724400043487549, -4.787300109863281, -4.966700077056885, -4.991799831390381, -5.061699867248535, -5.073299884796143, -5.09499979019165, -5.14169979095459, -5.19189977645874, -5.23390007019043, -5.272799968719482, -5.29040002822876, -5.3144001960754395, -5.33489990234375, -5.353000164031982, -5.3850998878479, -5.396699905395508, -5.425099849700928, -5.439499855041504, -5.446899890899658, -5.52209997177124, -5.5447001457214355, -5.611599922180176, -5.626100063323975, -5.628699779510498, -2.9465999603271484, -3.3561999797821045, -4.083199977874756, -4.364699840545654, -5.063499927520752, -5.180500030517578, -4.972700119018555, -4.227799892425537, -4.4847002029418945, -4.67710018157959, -4.725299835205078, -4.840799808502197, -4.938700199127197, -4.947199821472168, -4.952899932861328, -4.977799892425537, -5.017399787902832, -5.0329999923706055, -5.171299934387207, -5.1921000480651855, -5.208499908447266, -5.304800033569336, -5.286200046539307, -5.333399772644043, -5.388199806213379, -5.411200046539307, -5.365699768066406, -5.4481000900268555, -5.47629976272583, -5.495100021362305, -5.4959001541137695, -5.52269983291626, -5.560999870300293, -5.58459997177124, -5.591000080108643, -5.619800090789795, -5.603700160980225, -4.667300224304199, -4.718100070953369, -3.509000062942505, -3.7174999713897705, -3.900099992752075, -3.996999979019165, -4.020100116729736, -4.138800144195557, -4.3703999519348145, -4.442999839782715, -4.6203999519348145, -4.918000221252441, -5.097799777984619, -5.126800060272217, -5.151500225067139, -5.287799835205078, -5.302599906921387, -5.3354997634887695, -5.435100078582764, -5.4475998878479, -5.5329999923706055, -5.5229997634887695, -5.56850004196167, -5.5802998542785645, -5.60699987411499, -5.6219000816345215, -5.618299961090088, -5.63539981842041, -5.538099765777588, -5.627299785614014, -5.668300151824951, -5.668499946594238, -5.633500099182129, -3.3199000358581543, -3.8989999294281006, -4.156899929046631, -4.172399997711182, -4.329599857330322, -4.3927001953125, -4.544400215148926, -4.642199993133545, -4.900899887084961, -4.963399887084961, -4.938600063323975, -5.089900016784668, -5.041900157928467, -5.171500205993652, -5.118299961090088, -5.168600082397461, -5.223199844360352, -5.2347002029418945, -5.297599792480469, -5.3069000244140625, -5.267300128936768, -5.411099910736084, -5.488800048828125, -5.583799839019775, -5.521900177001953, -5.589399814605713, -5.657400131225586, -5.633900165557861, -5.709499835968018, -5.7144999504089355, -5.698800086975098], \"loglift\": [30.0, 29.0, 28.0, 27.0, 26.0, 25.0, 24.0, 23.0, 22.0, 21.0, 20.0, 19.0, 18.0, 17.0, 16.0, 15.0, 14.0, 13.0, 12.0, 11.0, 10.0, 9.0, 8.0, 7.0, 6.0, 5.0, 4.0, 3.0, 2.0, 1.0, 0.9258, 0.9257, 0.9257, 0.9257, 0.9257, 0.9257, 0.9257, 0.9257, 0.9257, 0.9257, 0.9257, 0.9257, 0.9256, 0.9256, 0.9256, 0.9256, 0.9256, 0.9256, 0.9256, 0.9256, 0.9256, 0.9256, 0.9256, 0.9256, 0.9256, 0.9256, 0.9256, 0.9256, 0.9256, 0.9256, 0.9246, 0.9136, 0.8271, 0.819, 0.8546, 0.392, 1.0584, 1.0584, 1.0584, 1.0584, 1.0584, 1.0583, 1.0583, 1.0583, 1.0583, 1.0583, 1.0583, 1.0583, 1.0583, 1.0583, 1.0582, 1.0582, 1.0582, 1.0582, 1.0582, 1.0582, 1.0582, 1.0582, 1.0582, 1.0582, 1.0582, 1.0582, 1.0582, 1.0581, 1.0581, 1.0581, 1.0482, 1.0379, 1.0056, 1.0057, 1.033, 1.0282, 0.9977, 2.4001, 2.4, 2.4, 2.3999, 2.3999, 2.3998, 2.3998, 2.3998, 2.3998, 2.3998, 2.3998, 2.3997, 2.3997, 2.3996, 2.3996, 2.3996, 2.3995, 2.3995, 2.3995, 2.3995, 2.3994, 2.3994, 2.3994, 2.3994, 2.3993, 2.3993, 2.3993, 2.3993, 2.3992, 2.3992, 1.6629, 0.0356, 2.422, 2.4219, 2.4219, 2.4219, 2.4219, 2.4218, 2.4218, 2.4217, 2.4217, 2.4215, 2.4214, 2.4214, 2.4213, 2.4212, 2.4212, 2.4212, 2.4211, 2.4211, 2.421, 2.421, 2.421, 2.421, 2.4209, 2.4209, 2.4209, 2.4209, 2.4209, 2.4209, 2.4209, 2.4208, -0.5448, 2.5588, 2.5586, 2.5586, 2.5586, 2.5585, 2.5584, 2.5584, 2.5583, 2.5582, 2.5582, 2.5581, 2.5581, 2.558, 2.558, 2.558, 2.558, 2.5579, 2.5579, 2.5579, 2.5579, 2.5578, 2.5577, 2.5577, 2.5575, 2.5575, 2.5575, 2.5574, 2.5574, 2.5573, 2.5573, 2.5569]}, \"token.table\": {\"Topic\": [3, 2, 1, 1, 3, 4, 1, 4, 2, 5, 4, 3, 4, 5, 3, 5, 4, 2, 3, 3, 3, 5, 4, 5, 5, 4, 1, 2, 1, 5, 4, 5, 2, 5, 3, 5, 2, 2, 2, 5, 2, 5, 1, 4, 5, 5, 3, 2, 2, 2, 5, 5, 1, 3, 4, 3, 1, 4, 4, 1, 2, 1, 2, 1, 1, 2, 5, 3, 1, 3, 5, 5, 2, 2, 5, 4, 3, 1, 5, 5, 5, 5, 1, 2, 5, 4, 1, 2, 4, 2, 1, 2, 3, 3, 1, 2, 4, 1, 1, 2, 3, 2, 1, 1, 4, 3, 5, 4, 1, 3, 5, 4, 2, 5, 3, 3, 2, 5, 4, 3, 5, 3, 4, 2, 2, 4, 4, 3, 1, 2, 3, 1, 1, 5, 1, 2, 2, 1, 3, 1, 1, 3, 2, 4, 1, 5, 1, 2, 2, 4, 2, 4, 5, 1, 3, 2, 3, 5, 1, 2, 2, 4, 2, 4, 2, 4, 2, 1, 1, 3, 1, 2, 5, 1, 4, 4, 1, 2, 3, 3], \"Freq\": [0.9993465601128444, 0.9999218724759289, 0.9996889553962673, 0.9060045936745618, 0.09397388072688274, 0.999574080378428, 0.9996987717125266, 0.999924138376288, 0.9898417539880882, 0.010153894540796224, 0.9997368487109651, 0.9992837348923986, 0.9991588489403622, 0.9996577661042865, 0.9983385044069659, 0.9988085577695266, 0.9993484514521496, 0.9995278545798125, 0.9994170610785987, 0.9988299897021379, 0.9995231754966669, 0.9984960566662185, 0.9988631614076936, 0.9993944732650913, 0.999689866032097, 0.9991500716539342, 0.9998251578701808, 0.9997890133334665, 0.9998891464148981, 0.9979501462303305, 0.9989164606523421, 0.9985544298051253, 0.9997706404508664, 0.9999273458967424, 0.9988740429236218, 0.9977420393400704, 0.999641670451074, 0.9999233488556473, 0.9702477187396887, 0.02959611154349015, 0.9796661877413448, 0.020293699307349415, 0.9999041342884978, 0.9985699857520838, 0.9997244432543272, 0.9983781629840216, 0.9990931376952685, 0.9999273524564897, 0.9996816840171412, 0.999793373449839, 0.9997603039370146, 0.9987561302217047, 0.9998683241535828, 0.9985307658376957, 0.9995358268456673, 0.9991613381267234, 0.9999436447403892, 0.9986348781139734, 0.999771191580125, 0.9877848197444613, 0.012113540173286207, 0.9313178966889162, 0.0686514335273544, 0.9998367521197545, 0.99991111541419, 0.999829502154286, 0.9989376163277001, 0.9986899004118183, 0.9998152151372456, 0.9994251672623503, 0.9984531274022012, 0.9992253780189854, 0.999802941528829, 0.9485692767468868, 0.05129278486331351, 0.9983655242163522, 0.9991237999909441, 0.999923856835668, 0.9996826763616764, 0.9993486140079308, 0.9993602731554295, 0.9989923550694468, 0.8987378096639189, 0.10125020893682124, 0.9989671906865148, 0.9998234667188903, 0.9998978177288538, 0.9999156267920193, 0.9989607304699487, 0.9998299690044724, 0.9997147154337681, 0.9998411484068879, 0.9992263007252247, 0.9996504509805982, 0.9997051418205732, 0.9997377687347048, 0.9993685742223207, 0.9998945495748295, 0.36292163238851605, 0.15879440446406876, 0.47819652633062143, 0.999748804919153, 0.9996171645173989, 0.9998581500838691, 0.9988045248105086, 0.999333047829629, 0.9992016014564634, 0.9990253069268403, 0.9999547154948388, 0.9990479868722645, 0.998891436360246, 0.9997871101245971, 0.9996926435132456, 0.99857821492427, 0.9987846097735271, 0.9991017277047617, 0.9999286907741115, 0.9988163205905428, 0.9989851647777334, 0.9991223944101618, 0.9996478251718797, 0.9996934236008715, 0.9991070191924479, 0.9998634197857657, 0.9997318196983624, 0.9981028696184487, 0.998722294704696, 0.9988776768539935, 0.025018883377718872, 0.9749161604727501, 0.9988853890892736, 0.9996387127560864, 0.9997789107711429, 0.9993659225751751, 0.9988296018339807, 0.0012260592493870467, 0.9995441918753889, 0.9998934238047964, 0.9997052915649828, 0.9997468970040637, 0.999880745469702, 0.9990182461525403, 0.9998667234303164, 0.9989517858064941, 0.9999192451384183, 0.9980695362680863, 0.586365637449422, 0.41351575686661446, 0.999873943210048, 0.9993341898255838, 0.9998345308690562, 0.9999130968193088, 0.9995276716754294, 0.9998379953295946, 0.999569567708432, 0.9997082078363352, 0.9996018138681836, 0.9995636817073028, 0.9999216655628043, 0.9997312517353422, 0.9997318092529215, 0.9987720158827772, 0.9484953636874633, 0.05142985910444257, 0.9998926451988681, 0.9996668022753327, 0.9998869919517438, 0.9997375326954234, 0.9998660532337618, 0.9984321931479306, 0.9998258011544213, 0.9998822877320901, 0.999026771623524, 0.9998806292701193, 0.9987940169482291, 0.9985209880617958, 0.05875505354148793, 0.9409847805644451, 0.9994923019401848, 0.9987193955850745], \"Term\": [\"accept\", \"america\", \"americans\", \"amp\", \"amp\", \"arizona\", \"back\", \"ballots\", \"biden\", \"biden\", \"bidenharris\", \"black\", \"blm\", \"blue\", \"book\", \"byedon\", \"california\", \"campaign\", \"care\", \"china\", \"claims\", \"codes\", \"college\", \"con\", \"concede\", \"congratulations\", \"could\", \"count\", \"country\", \"county\", \"courts\", \"crimes\", \"day\", \"de\", \"dejoy\", \"del\", \"democracy\", \"democrats\", \"donald\", \"donald\", \"donaldtrump\", \"donaldtrump\", \"dont\", \"dumptrump\", \"el\", \"elecciones\", \"elect\", \"election\", \"electionday\", \"elections\", \"en\", \"es\", \"even\", \"false\", \"finally\", \"follow\", \"fraud\", \"ga\", \"georgia\", \"get\", \"get\", \"go\", \"go\", \"going\", \"good\", \"gop\", \"ha\", \"heard\", \"house\", \"imagine\", \"investigate\", \"january\", \"joe\", \"joebiden\", \"joebiden\", \"kamalaharrisvp\", \"knew\", \"know\", \"la\", \"las\", \"lawsuits\", \"le\", \"like\", \"like\", \"los\", \"loser\", \"lost\", \"maga\", \"mailin\", \"make\", \"many\", \"media\", \"military\", \"millions\", \"need\", \"needs\", \"nevada\", \"never\", \"new\", \"new\", \"new\", \"news\", \"nothing\", \"one\", \"outside\", \"pa\", \"para\", \"pardon\", \"people\", \"person\", \"philly\", \"please\", \"politics\", \"por\", \"post\", \"power\", \"president\", \"presidente\", \"process\", \"putin\", \"que\", \"read\", \"received\", \"republican\", \"republicans\", \"resist\", \"rest\", \"rigged\", \"right\", \"right\", \"russia\", \"said\", \"say\", \"se\", \"see\", \"see\", \"state\", \"states\", \"steal\", \"still\", \"stop\", \"streets\", \"supporters\", \"texas\", \"think\", \"thinking\", \"time\", \"time\", \"today\", \"total\", \"trumpislosing\", \"trumpmeltdown\", \"trumpout\", \"trumps\", \"trumpvsbiden\", \"truth\", \"twitter\", \"un\", \"us\", \"usa\", \"via\", \"violence\", \"vote\", \"vote\", \"voted\", \"voterfraud\", \"votes\", \"want\", \"way\", \"week\", \"white\", \"win\", \"winner\", \"would\", \"wow\", \"yall\", \"years\", \"years\", \"yourefired\", \"yourefiredtrump\"]}, \"R\": 30, \"lambda.step\": 0.01, \"plot.opts\": {\"xlab\": \"PC1\", \"ylab\": \"PC2\"}, \"topic.order\": [1, 4, 3, 2, 5]};\n",
       "\n",
       "function LDAvis_load_lib(url, callback){\n",
       "  var s = document.createElement('script');\n",
       "  s.src = url;\n",
       "  s.async = true;\n",
       "  s.onreadystatechange = s.onload = callback;\n",
       "  s.onerror = function(){console.warn(\"failed to load library \" + url);};\n",
       "  document.getElementsByTagName(\"head\")[0].appendChild(s);\n",
       "}\n",
       "\n",
       "if(typeof(LDAvis) !== \"undefined\"){\n",
       "   // already loaded: just create the visualization\n",
       "   !function(LDAvis){\n",
       "       new LDAvis(\"#\" + \"ldavis_el5795460958893442008777433\", ldavis_el5795460958893442008777433_data);\n",
       "   }(LDAvis);\n",
       "}else if(typeof define === \"function\" && define.amd){\n",
       "   // require.js is available: use it to load d3/LDAvis\n",
       "   require.config({paths: {d3: \"https://cdnjs.cloudflare.com/ajax/libs/d3/3.5.5/d3.min\"}});\n",
       "   require([\"d3\"], function(d3){\n",
       "      window.d3 = d3;\n",
       "      LDAvis_load_lib(\"https://cdn.rawgit.com/bmabey/pyLDAvis/files/ldavis.v1.0.0.js\", function(){\n",
       "        new LDAvis(\"#\" + \"ldavis_el5795460958893442008777433\", ldavis_el5795460958893442008777433_data);\n",
       "      });\n",
       "    });\n",
       "}else{\n",
       "    // require.js not available: dynamically load d3 & LDAvis\n",
       "    LDAvis_load_lib(\"https://cdnjs.cloudflare.com/ajax/libs/d3/3.5.5/d3.min.js\", function(){\n",
       "         LDAvis_load_lib(\"https://cdn.rawgit.com/bmabey/pyLDAvis/files/ldavis.v1.0.0.js\", function(){\n",
       "                 new LDAvis(\"#\" + \"ldavis_el5795460958893442008777433\", ldavis_el5795460958893442008777433_data);\n",
       "            })\n",
       "         });\n",
       "}\n",
       "</script>"
      ],
      "text/plain": [
       "PreparedData(topic_coordinates=              x         y  topics  cluster       Freq\n",
       "topic                                                \n",
       "0      0.347733  0.157159       1        1  39.620348\n",
       "3      0.125166 -0.350145       2        1  34.699077\n",
       "2     -0.077426  0.234327       3        1   9.068137\n",
       "1     -0.203495  0.053552       4        1   8.873475\n",
       "4     -0.191978 -0.094893       5        1   7.738963, topic_info=              Term          Freq         Total Category  logprob  loglift\n",
       "196          biden  39886.000000  39886.000000  Default  30.0000  30.0000\n",
       "6      donaldtrump  26757.000000  26757.000000  Default  29.0000  29.0000\n",
       "83        election  18429.000000  18429.000000  Default  28.0000  28.0000\n",
       "3               de   6063.000000   6063.000000  Default  27.0000  27.0000\n",
       "66       president  14470.000000  14470.000000  Default  26.0000  26.0000\n",
       "...            ...           ...           ...      ...      ...      ...\n",
       "3176           del    585.462116    586.323896   Topic5  -5.6574   2.5574\n",
       "4116        county    599.341443    600.230385   Topic5  -5.6339   2.5574\n",
       "11284       philly    555.717087    556.617045   Topic5  -5.7095   2.5573\n",
       "4356   investigate    552.945875    553.856746   Topic5  -5.7145   2.5573\n",
       "13829        codes    561.715095    562.846489   Topic5  -5.6988   2.5569\n",
       "\n",
       "[197 rows x 6 columns], token_table=       Topic      Freq             Term\n",
       "term                                   \n",
       "4009       3  0.999347           accept\n",
       "93         2  0.999922          america\n",
       "525        1  0.999689        americans\n",
       "139        1  0.906005              amp\n",
       "139        3  0.093974              amp\n",
       "...      ...       ...              ...\n",
       "3909       4  0.998521             yall\n",
       "38         1  0.058755            years\n",
       "38         2  0.940985            years\n",
       "11251      3  0.999492       yourefired\n",
       "37767      3  0.998719  yourefiredtrump\n",
       "\n",
       "[180 rows x 3 columns], R=30, lambda_step=0.01, plot_opts={'xlab': 'PC1', 'ylab': 'PC2'}, topic_order=[1, 4, 3, 2, 5])"
      ]
     },
     "execution_count": 71,
     "metadata": {},
     "output_type": "execute_result"
    }
   ],
   "source": [
    "#VIZ\n",
    "lda_model = model\n",
    "import pyLDAvis.gensim\n",
    "import pickle \n",
    "import pyLDAvis\n",
    "import os\n",
    "# Visualize the topics\n",
    "pyLDAvis.enable_notebook()\n",
    "LDAvis_data_filepath = os.path.join('./results/ldavis_prepared_'+str(num_topics))\n",
    "# # this is a bit time consuming - make the if statement True\n",
    "# # if you want to execute visualization prep yourself\n",
    "if 1 == 1:\n",
    "    LDAvis_prepared = pyLDAvis.gensim.prepare(lda_model, corpus, id2word)\n",
    "    with open(LDAvis_data_filepath, 'wb') as f:\n",
    "        pickle.dump(LDAvis_prepared, f)\n",
    "# load the pre-prepared pyLDAvis data from disk\n",
    "with open(LDAvis_data_filepath, 'rb') as f:\n",
    "    LDAvis_prepared = pickle.load(f)\n",
    "pyLDAvis.save_html(LDAvis_prepared, './results/ldavis_prepared_'+ str(num_topics) +'.html')\n",
    "LDAvis_prepared"
   ]
  },
  {
   "cell_type": "code",
   "execution_count": 12,
   "metadata": {},
   "outputs": [
    {
     "name": "stderr",
     "output_type": "stream",
     "text": [
      "  0%|          | 268/100000 [00:16<1:40:52, 16.48it/s]\n"
     ]
    },
    {
     "ename": "KeyboardInterrupt",
     "evalue": "",
     "output_type": "error",
     "traceback": [
      "\u001b[0;31m---------------------------------------------------------------------------\u001b[0m",
      "\u001b[0;31mKeyboardInterrupt\u001b[0m                         Traceback (most recent call last)",
      "\u001b[0;32m<ipython-input-12-72c3d8a07e2b>\u001b[0m in \u001b[0;36m<module>\u001b[0;34m\u001b[0m\n\u001b[1;32m      2\u001b[0m \u001b[0mn\u001b[0m \u001b[0;34m=\u001b[0m \u001b[0;36m1000000000000000\u001b[0m\u001b[0;34m\u001b[0m\u001b[0;34m\u001b[0m\u001b[0m\n\u001b[1;32m      3\u001b[0m \u001b[0;32mfor\u001b[0m \u001b[0mi\u001b[0m \u001b[0;32min\u001b[0m \u001b[0mtqdm\u001b[0m\u001b[0;34m.\u001b[0m\u001b[0mtqdm\u001b[0m\u001b[0;34m(\u001b[0m\u001b[0mrange\u001b[0m\u001b[0;34m(\u001b[0m\u001b[0;36m100000\u001b[0m\u001b[0;34m)\u001b[0m\u001b[0;34m)\u001b[0m\u001b[0;34m:\u001b[0m\u001b[0;34m\u001b[0m\u001b[0;34m\u001b[0m\u001b[0m\n\u001b[0;32m----> 4\u001b[0;31m     \u001b[0mx\u001b[0m \u001b[0;34m=\u001b[0m \u001b[0;34m(\u001b[0m\u001b[0mn\u001b[0m\u001b[0;34m**\u001b[0m\u001b[0mi\u001b[0m\u001b[0;34m)\u001b[0m\u001b[0;34m**\u001b[0m\u001b[0mi\u001b[0m\u001b[0;34m\u001b[0m\u001b[0;34m\u001b[0m\u001b[0m\n\u001b[0m",
      "\u001b[0;31mKeyboardInterrupt\u001b[0m: "
     ]
    }
   ],
   "source": [
    "import tqdm\n",
    "n = 1000000000000000\n",
    "for i in tqdm.tqdm(range(100000)):\n",
    "    x = (n**i)**i"
   ]
  },
  {
   "cell_type": "code",
   "execution_count": null,
   "metadata": {},
   "outputs": [],
   "source": []
  }
 ],
 "metadata": {
  "kernelspec": {
   "display_name": "Python 3",
   "language": "python",
   "name": "python3"
  },
  "language_info": {
   "codemirror_mode": {
    "name": "ipython",
    "version": 3
   },
   "file_extension": ".py",
   "mimetype": "text/x-python",
   "name": "python",
   "nbconvert_exporter": "python",
   "pygments_lexer": "ipython3",
   "version": "3.8.6"
  }
 },
 "nbformat": 4,
 "nbformat_minor": 4
}
